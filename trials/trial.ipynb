{
 "cells": [
  {
   "cell_type": "code",
   "execution_count": 24,
   "metadata": {},
   "outputs": [
    {
     "ename": "FileNotFoundError",
     "evalue": "[Errno 2] No such file or directory: 'D:\\\\CODE vacation\\\\thumbnail maker\\\\100k.png'",
     "output_type": "error",
     "traceback": [
      "\u001b[1;31m---------------------------------------------------------------------------\u001b[0m",
      "\u001b[1;31mFileNotFoundError\u001b[0m                         Traceback (most recent call last)",
      "Cell \u001b[1;32mIn[24], line 38\u001b[0m\n\u001b[0;32m     35\u001b[0m \u001b[38;5;28;01melse\u001b[39;00m:\n\u001b[0;32m     36\u001b[0m     milestone_png_path \u001b[38;5;241m=\u001b[39m \u001b[38;5;124m'\u001b[39m\u001b[38;5;124mpath/to/default.png\u001b[39m\u001b[38;5;124m'\u001b[39m  \u001b[38;5;66;03m# Default or fallback PNG\u001b[39;00m\n\u001b[1;32m---> 38\u001b[0m \u001b[43mcreate_thumbnail\u001b[49m\u001b[43m(\u001b[49m\u001b[43mtemplate_path\u001b[49m\u001b[43m,\u001b[49m\u001b[43m \u001b[49m\u001b[43moutput_path\u001b[49m\u001b[43m,\u001b[49m\u001b[43m \u001b[49m\u001b[43mmilestone_png_path\u001b[49m\u001b[43m,\u001b[49m\u001b[43m \u001b[49m\u001b[43mnew_width\u001b[49m\u001b[43m)\u001b[49m\n",
      "Cell \u001b[1;32mIn[24], line 8\u001b[0m, in \u001b[0;36mcreate_thumbnail\u001b[1;34m(template_path, output_path, milestone_png_path, new_width)\u001b[0m\n\u001b[0;32m      5\u001b[0m base_image \u001b[38;5;241m=\u001b[39m Image\u001b[38;5;241m.\u001b[39mopen(template_path)\u001b[38;5;241m.\u001b[39mconvert(\u001b[38;5;124m\"\u001b[39m\u001b[38;5;124mRGBA\u001b[39m\u001b[38;5;124m\"\u001b[39m)\n\u001b[0;32m      7\u001b[0m \u001b[38;5;66;03m# Load and resize the milestone PNG\u001b[39;00m\n\u001b[1;32m----> 8\u001b[0m milestone_image \u001b[38;5;241m=\u001b[39m \u001b[43mImage\u001b[49m\u001b[38;5;241;43m.\u001b[39;49m\u001b[43mopen\u001b[49m\u001b[43m(\u001b[49m\u001b[43mmilestone_png_path\u001b[49m\u001b[43m)\u001b[49m\u001b[38;5;241m.\u001b[39mconvert(\u001b[38;5;124m\"\u001b[39m\u001b[38;5;124mRGBA\u001b[39m\u001b[38;5;124m\"\u001b[39m)\n\u001b[0;32m      9\u001b[0m original_width, original_height \u001b[38;5;241m=\u001b[39m milestone_image\u001b[38;5;241m.\u001b[39msize\n\u001b[0;32m     10\u001b[0m new_height \u001b[38;5;241m=\u001b[39m \u001b[38;5;28mint\u001b[39m((new_width \u001b[38;5;241m/\u001b[39m original_width) \u001b[38;5;241m*\u001b[39m original_height)\n",
      "File \u001b[1;32m~\\AppData\\Local\\Packages\\PythonSoftwareFoundation.Python.3.11_qbz5n2kfra8p0\\LocalCache\\local-packages\\Python311\\site-packages\\PIL\\Image.py:3277\u001b[0m, in \u001b[0;36mopen\u001b[1;34m(fp, mode, formats)\u001b[0m\n\u001b[0;32m   3274\u001b[0m     filename \u001b[38;5;241m=\u001b[39m os\u001b[38;5;241m.\u001b[39mpath\u001b[38;5;241m.\u001b[39mrealpath(os\u001b[38;5;241m.\u001b[39mfspath(fp))\n\u001b[0;32m   3276\u001b[0m \u001b[38;5;28;01mif\u001b[39;00m filename:\n\u001b[1;32m-> 3277\u001b[0m     fp \u001b[38;5;241m=\u001b[39m builtins\u001b[38;5;241m.\u001b[39mopen(filename, \u001b[38;5;124m\"\u001b[39m\u001b[38;5;124mrb\u001b[39m\u001b[38;5;124m\"\u001b[39m)\n\u001b[0;32m   3278\u001b[0m     exclusive_fp \u001b[38;5;241m=\u001b[39m \u001b[38;5;28;01mTrue\u001b[39;00m\n\u001b[0;32m   3280\u001b[0m \u001b[38;5;28;01mtry\u001b[39;00m:\n",
      "\u001b[1;31mFileNotFoundError\u001b[0m: [Errno 2] No such file or directory: 'D:\\\\CODE vacation\\\\thumbnail maker\\\\100k.png'"
     ]
    }
   ],
   "source": [
    "from PIL import Image\n",
    "\n",
    "def create_thumbnail(template_path, output_path, milestone_png_path, new_width):\n",
    "    # Load your Canva template\n",
    "    base_image = Image.open(template_path).convert(\"RGBA\")\n",
    "\n",
    "    # Load and resize the milestone PNG\n",
    "    milestone_image = Image.open(milestone_png_path).convert(\"RGBA\")\n",
    "    original_width, original_height = milestone_image.size\n",
    "    new_height = int((new_width / original_width) * original_height)\n",
    "    milestone_image = milestone_image.resize((new_width, new_height), Image.Resampling.LANCZOS)\n",
    "\n",
    "    # Calculate position to place the image at the top right corner\n",
    "    base_width, base_height = base_image.size\n",
    "    position = (base_width - new_width - 100, 800)  # Adjust the 10 pixel margin as needed\n",
    "\n",
    "    # Overlay the milestone image on the base image\n",
    "    base_image.paste(milestone_image, position, milestone_image)\n",
    "\n",
    "    # Convert to RGB to save as JPEG\n",
    "    combined_image = base_image.convert(\"RGB\")\n",
    "    combined_image.save(output_path, \"JPEG\")\n",
    "\n",
    "# Example usage\n",
    "view_count = 100000  # For the sake of example\n",
    "template_path = '1.jpg'\n",
    "output_path = 'output.png'  # Change the output path extension to .jpg\n",
    "new_width = 500  # New width for the milestone PNG image\n",
    "\n",
    "# Choose the milestone PNG path based on the view count\n",
    "if view_count >= 1000000:\n",
    "    milestone_png_path = 'path/to/1m_views.png'\n",
    "elif view_count >= 100000:\n",
    "    milestone_png_path = '100k.png'\n",
    "else:\n",
    "    milestone_png_path = 'path/to/default.png'  # Default or fallback PNG\n",
    "\n",
    "create_thumbnail(template_path, output_path, milestone_png_path, new_width)\n"
   ]
  }
 ],
 "metadata": {
  "kernelspec": {
   "display_name": "Python 3",
   "language": "python",
   "name": "python3"
  },
  "language_info": {
   "codemirror_mode": {
    "name": "ipython",
    "version": 3
   },
   "file_extension": ".py",
   "mimetype": "text/x-python",
   "name": "python",
   "nbconvert_exporter": "python",
   "pygments_lexer": "ipython3",
   "version": "3.11.9"
  }
 },
 "nbformat": 4,
 "nbformat_minor": 2
}
